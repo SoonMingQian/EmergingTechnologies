{
 "cells": [
  {
   "cell_type": "code",
   "execution_count": null,
   "metadata": {},
   "outputs": [],
   "source": [
    "L = [[l,c] for l,c in counts.items()]\n",
    "L.sort(key=lambda x:x[1], reverse=True)\n",
    "for l, c in L:\n",
    "    print(f'{l}: {c}')"
   ]
  },
  {
   "cell_type": "code",
   "execution_count": 5,
   "metadata": {},
   "outputs": [],
   "source": [
    "with open('english_works/complete_works.txt', 'r') as file:\n",
    "    input_text = file.read()"
   ]
  },
  {
   "cell_type": "code",
   "execution_count": 6,
   "metadata": {},
   "outputs": [],
   "source": [
    "def clean_text(text):\n",
    "    ascii_letters = set(\"ABCDEFGHIJKLMNOPQRSTUVWXYZ. \")\n",
    "    cleaned_text = ''.join(char.upper() for char in text if char.upper() in ascii_letters) \n",
    "    return cleaned_text\n",
    "\n",
    "cleaned_text = clean_text(input_text)\n",
    "\n"
   ]
  }
 ],
 "metadata": {
  "kernelspec": {
   "display_name": "base",
   "language": "python",
   "name": "python3"
  },
  "language_info": {
   "codemirror_mode": {
    "name": "ipython",
    "version": 3
   },
   "file_extension": ".py",
   "mimetype": "text/x-python",
   "name": "python",
   "nbconvert_exporter": "python",
   "pygments_lexer": "ipython3",
   "version": "3.11.5"
  }
 },
 "nbformat": 4,
 "nbformat_minor": 2
}
