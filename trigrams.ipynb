{
 "cells": [
  {
   "cell_type": "code",
   "execution_count": 5,
   "metadata": {},
   "outputs": [],
   "source": [
    "with open('english_works/complete_works.txt', 'r') as file:\n",
    "    input_text = file.read()"
   ]
  },
  {
   "cell_type": "code",
   "execution_count": 10,
   "metadata": {},
   "outputs": [
    {
     "name": "stdout",
     "output_type": "stream",
     "text": [
      "Start or end phrase not found\n"
     ]
    }
   ],
   "source": [
    "def remove_preamble_postamble(text):\n",
    "    # Remove the characters before the start phrase and after the end phrase\n",
    "    start_phrase = \"START OF THE PROJECT GUTENBERG\"\n",
    "    end_phrase = \"END OF THE PROJECT GUTENBERG\"\n",
    "\n",
    "    # Find the start and end indices\n",
    "    start_index = text.upper().find(start_phrase)\n",
    "    end_index = text.upper().find(end_phrase)\n",
    "\n",
    "    # Return the text between the start and end indices\n",
    "    if start_index != -1 and end_index != -1:\n",
    "        start_index += len(start_phrase)\n",
    "        return text[start_index:end_index].strip()\n",
    "    \n",
    "    # If the phrases are not found, return an error message\n",
    "    print(\"Start or end phrase not found\")\n",
    "\n",
    "\n",
    "output_text = remove_preamble_postamble(input_text)\n"
   ]
  },
  {
   "cell_type": "code",
   "execution_count": 9,
   "metadata": {},
   "outputs": [
    {
     "name": "stdout",
     "output_type": "stream",
     "text": [
      "EBOOK THE COMPLETE WORKS OF WILLIAM SHAKESPEARE THE COMPLETE WORKS OF WILLIAM SHAKESPEAREBY WILLIAM SHAKESPEARE                    CONTENTS    THE SONNETS    ALLS WELL THAT ENDS WELL    THE TRAGEDY OF ANTONY AND CLEOPATRA    AS YOU LIKE IT    THE COMEDY OF ERRORS    THE TRAGEDY OF CORIOLANUS    CYMBELINE    THE TRAGEDY OF HAMLET PRINCE OF DENMARK    THE FIRST PART OF KING HENRY THE FOURTH    THE SECOND PART OF KING HENRY THE FOURTH    THE LIFE OF KING HENRY THE FIFTH    THE FIRST PART OF HENRY THE SIXTH    THE SECOND PART OF KING HENRY THE SIXTH    THE THIRD PART OF KING HENRY THE SIXTH    KING HENRY THE EIGHTH    THE LIFE AND DEATH OF KING JOHN    THE TRAGEDY OF JULIUS CAESAR    THE TRAGEDY OF KING LEAR    LOVES LABOURS LOST    THE TRAGEDY OF MACBETH    MEASURE FOR MEASURE    THE MERCHANT OF VENICE    THE MERRY WIVES OF WINDSOR    A MIDSUMMER NIGHTS DREAM    MUCH ADO ABOUT NOTHING    THE TRAGEDY OF OTHELLO THE MOOR OF VENICE    PERICLES PRINCE OF TYRE    KING RICHARD THE SECOND    KIN\n"
     ]
    }
   ],
   "source": [
    "def clean_text(text):\n",
    "    ascii_letters = set(\"ABCDEFGHIJKLMNOPQRSTUVWXYZ. \")\n",
    "    cleaned_text = ''.join(char.upper() for char in text if char.upper() in ascii_letters) \n",
    "    return cleaned_text\n",
    "\n",
    "cleaned_text = clean_text(output_text)\n",
    "\n"
   ]
  }
 ],
 "metadata": {
  "kernelspec": {
   "display_name": "base",
   "language": "python",
   "name": "python3"
  },
  "language_info": {
   "codemirror_mode": {
    "name": "ipython",
    "version": 3
   },
   "file_extension": ".py",
   "mimetype": "text/x-python",
   "name": "python",
   "nbconvert_exporter": "python",
   "pygments_lexer": "ipython3",
   "version": "3.11.5"
  }
 },
 "nbformat": 4,
 "nbformat_minor": 2
}
